{
 "cells": [
  {
   "cell_type": "markdown",
   "id": "2595d05f-0695-4b3d-8a94-0d16e64a5d4f",
   "metadata": {},
   "source": [
    "## Catherine George\n",
    "# Module 4 Live Coding Assignment: Python Functions and Linear Regression Basics\n",
    "Throughout this assignment, please remember to import all the necessary libraries at the beginning of every exercise.\n",
    "## **Question 1**\n",
    "Define a function called “calculate_si_amount” that takes the parameters “principal”, “rate”, and “time”, computes the “interest” using the formula <br>\n",
    "$\\ \\ \\ \\ \\ \\ \\ $*interest = principal * rate * time/100, (1)* <br>\n",
    "and returns the variable “total” computed by adding “principal” and “rate”. Next, call the function using the values principal = 1859, rate = 1.67, and time = 5."
   ]
  },
  {
   "cell_type": "code",
   "execution_count": 110,
   "id": "abebb280-9078-440b-8147-2aecf6f312a3",
   "metadata": {},
   "outputs": [],
   "source": [
    "def calculate_si_amount(principal, rate, time):\n",
    "    interest = principal * rate * time/100\n",
    "    # total = principal + interest\n",
    "    total = principal + rate\n",
    "    return total"
   ]
  },
  {
   "cell_type": "code",
   "execution_count": 111,
   "id": "ba7b9298-1541-4148-859b-c253529a869b",
   "metadata": {},
   "outputs": [
    {
     "data": {
      "text/plain": [
       "1860.67"
      ]
     },
     "execution_count": 111,
     "metadata": {},
     "output_type": "execute_result"
    }
   ],
   "source": [
    "calculate_si_amount(1859, 1.67, 5)"
   ]
  },
  {
   "cell_type": "markdown",
   "id": "9dbea5ac-f0bf-4b66-b091-19233e2b15cf",
   "metadata": {},
   "source": [
    "## **Question 2**\n",
    "Define a function called “calculate_sum’ that takes a variable number of parameters and computed their sum. Make sure you initialize your starting sum at zero and return the final\n",
    "result to a variable called “ total_sum”. Finally, compute the sum of the numbers 34, 73.8, 28 and 78."
   ]
  },
  {
   "cell_type": "code",
   "execution_count": 107,
   "id": "ea1cd519-d874-460a-83a4-b851c5ff0470",
   "metadata": {},
   "outputs": [],
   "source": [
    "def calculate_sum(*args):\n",
    "    total_sum = 0\n",
    "    for i in range(len(args)):\n",
    "        total_sum = total_sum + args[i]\n",
    "    return total_sum"
   ]
  },
  {
   "cell_type": "code",
   "execution_count": 108,
   "id": "d26c9c9f-515f-431c-8ad3-577ca44acef6",
   "metadata": {},
   "outputs": [
    {
     "data": {
      "text/plain": [
       "213.8"
      ]
     },
     "execution_count": 108,
     "metadata": {},
     "output_type": "execute_result"
    }
   ],
   "source": [
    "calculate_sum(34, 73.8, 28, 78)"
   ]
  },
  {
   "cell_type": "markdown",
   "id": "2d0a6520-7b4a-4e44-9f6e-adeb7b42d605",
   "metadata": {},
   "source": [
    "<p style=\"page-break-after:always;\"></p>\n",
    "\n",
    "## **Question 3**\n",
    "Import the public “diabetes” database from the sklearn library and save it to a dataframe called “diabetes”. Print to screen the shape of the dataset and the first ten lines of the\n",
    "dataset. Next, perform a simple linear regression using the variable “Age” to predict the variable “Body mass index”. Save your model in a variable called “simple prediction”. Print\n",
    "to screen the intercept, the coefficients obtained from your linear regression model, and the score of your prediction."
   ]
  },
  {
   "cell_type": "code",
   "execution_count": 112,
   "id": "288a37aa-392a-4891-a18e-f15725f34a77",
   "metadata": {},
   "outputs": [
    {
     "data": {
      "text/plain": [
       "(442, 10)"
      ]
     },
     "execution_count": 112,
     "metadata": {},
     "output_type": "execute_result"
    }
   ],
   "source": [
    "from sklearn import datasets\n",
    "from sklearn import linear_model\n",
    "from sklearn import metrics\n",
    "import pandas as pd\n",
    "\n",
    "diabetes_raw = sklearn.datasets.load_diabetes(return_X_y=False, as_frame=True)\n",
    "diabetes = pd.DataFrame(diabetes_raw['data'])\n",
    "\n",
    "diabetes.shape"
   ]
  },
  {
   "cell_type": "code",
   "execution_count": 113,
   "id": "b042898b-0fbe-4a25-8661-2abc73ba1b15",
   "metadata": {},
   "outputs": [
    {
     "data": {
      "text/html": [
       "<div>\n",
       "<style scoped>\n",
       "    .dataframe tbody tr th:only-of-type {\n",
       "        vertical-align: middle;\n",
       "    }\n",
       "\n",
       "    .dataframe tbody tr th {\n",
       "        vertical-align: top;\n",
       "    }\n",
       "\n",
       "    .dataframe thead th {\n",
       "        text-align: right;\n",
       "    }\n",
       "</style>\n",
       "<table border=\"1\" class=\"dataframe\">\n",
       "  <thead>\n",
       "    <tr style=\"text-align: right;\">\n",
       "      <th></th>\n",
       "      <th>age</th>\n",
       "      <th>sex</th>\n",
       "      <th>bmi</th>\n",
       "      <th>bp</th>\n",
       "      <th>s1</th>\n",
       "      <th>s2</th>\n",
       "      <th>s3</th>\n",
       "      <th>s4</th>\n",
       "      <th>s5</th>\n",
       "      <th>s6</th>\n",
       "    </tr>\n",
       "  </thead>\n",
       "  <tbody>\n",
       "    <tr>\n",
       "      <th>0</th>\n",
       "      <td>0.038076</td>\n",
       "      <td>0.050680</td>\n",
       "      <td>0.061696</td>\n",
       "      <td>0.021872</td>\n",
       "      <td>-0.044223</td>\n",
       "      <td>-0.034821</td>\n",
       "      <td>-0.043401</td>\n",
       "      <td>-0.002592</td>\n",
       "      <td>0.019908</td>\n",
       "      <td>-0.017646</td>\n",
       "    </tr>\n",
       "    <tr>\n",
       "      <th>1</th>\n",
       "      <td>-0.001882</td>\n",
       "      <td>-0.044642</td>\n",
       "      <td>-0.051474</td>\n",
       "      <td>-0.026328</td>\n",
       "      <td>-0.008449</td>\n",
       "      <td>-0.019163</td>\n",
       "      <td>0.074412</td>\n",
       "      <td>-0.039493</td>\n",
       "      <td>-0.068330</td>\n",
       "      <td>-0.092204</td>\n",
       "    </tr>\n",
       "    <tr>\n",
       "      <th>2</th>\n",
       "      <td>0.085299</td>\n",
       "      <td>0.050680</td>\n",
       "      <td>0.044451</td>\n",
       "      <td>-0.005671</td>\n",
       "      <td>-0.045599</td>\n",
       "      <td>-0.034194</td>\n",
       "      <td>-0.032356</td>\n",
       "      <td>-0.002592</td>\n",
       "      <td>0.002864</td>\n",
       "      <td>-0.025930</td>\n",
       "    </tr>\n",
       "    <tr>\n",
       "      <th>3</th>\n",
       "      <td>-0.089063</td>\n",
       "      <td>-0.044642</td>\n",
       "      <td>-0.011595</td>\n",
       "      <td>-0.036656</td>\n",
       "      <td>0.012191</td>\n",
       "      <td>0.024991</td>\n",
       "      <td>-0.036038</td>\n",
       "      <td>0.034309</td>\n",
       "      <td>0.022692</td>\n",
       "      <td>-0.009362</td>\n",
       "    </tr>\n",
       "    <tr>\n",
       "      <th>4</th>\n",
       "      <td>0.005383</td>\n",
       "      <td>-0.044642</td>\n",
       "      <td>-0.036385</td>\n",
       "      <td>0.021872</td>\n",
       "      <td>0.003935</td>\n",
       "      <td>0.015596</td>\n",
       "      <td>0.008142</td>\n",
       "      <td>-0.002592</td>\n",
       "      <td>-0.031991</td>\n",
       "      <td>-0.046641</td>\n",
       "    </tr>\n",
       "    <tr>\n",
       "      <th>5</th>\n",
       "      <td>-0.092695</td>\n",
       "      <td>-0.044642</td>\n",
       "      <td>-0.040696</td>\n",
       "      <td>-0.019442</td>\n",
       "      <td>-0.068991</td>\n",
       "      <td>-0.079288</td>\n",
       "      <td>0.041277</td>\n",
       "      <td>-0.076395</td>\n",
       "      <td>-0.041180</td>\n",
       "      <td>-0.096346</td>\n",
       "    </tr>\n",
       "    <tr>\n",
       "      <th>6</th>\n",
       "      <td>-0.045472</td>\n",
       "      <td>0.050680</td>\n",
       "      <td>-0.047163</td>\n",
       "      <td>-0.015999</td>\n",
       "      <td>-0.040096</td>\n",
       "      <td>-0.024800</td>\n",
       "      <td>0.000779</td>\n",
       "      <td>-0.039493</td>\n",
       "      <td>-0.062913</td>\n",
       "      <td>-0.038357</td>\n",
       "    </tr>\n",
       "    <tr>\n",
       "      <th>7</th>\n",
       "      <td>0.063504</td>\n",
       "      <td>0.050680</td>\n",
       "      <td>-0.001895</td>\n",
       "      <td>0.066630</td>\n",
       "      <td>0.090620</td>\n",
       "      <td>0.108914</td>\n",
       "      <td>0.022869</td>\n",
       "      <td>0.017703</td>\n",
       "      <td>-0.035817</td>\n",
       "      <td>0.003064</td>\n",
       "    </tr>\n",
       "    <tr>\n",
       "      <th>8</th>\n",
       "      <td>0.041708</td>\n",
       "      <td>0.050680</td>\n",
       "      <td>0.061696</td>\n",
       "      <td>-0.040099</td>\n",
       "      <td>-0.013953</td>\n",
       "      <td>0.006202</td>\n",
       "      <td>-0.028674</td>\n",
       "      <td>-0.002592</td>\n",
       "      <td>-0.014956</td>\n",
       "      <td>0.011349</td>\n",
       "    </tr>\n",
       "    <tr>\n",
       "      <th>9</th>\n",
       "      <td>-0.070900</td>\n",
       "      <td>-0.044642</td>\n",
       "      <td>0.039062</td>\n",
       "      <td>-0.033214</td>\n",
       "      <td>-0.012577</td>\n",
       "      <td>-0.034508</td>\n",
       "      <td>-0.024993</td>\n",
       "      <td>-0.002592</td>\n",
       "      <td>0.067736</td>\n",
       "      <td>-0.013504</td>\n",
       "    </tr>\n",
       "  </tbody>\n",
       "</table>\n",
       "</div>"
      ],
      "text/plain": [
       "        age       sex       bmi        bp        s1        s2        s3  \\\n",
       "0  0.038076  0.050680  0.061696  0.021872 -0.044223 -0.034821 -0.043401   \n",
       "1 -0.001882 -0.044642 -0.051474 -0.026328 -0.008449 -0.019163  0.074412   \n",
       "2  0.085299  0.050680  0.044451 -0.005671 -0.045599 -0.034194 -0.032356   \n",
       "3 -0.089063 -0.044642 -0.011595 -0.036656  0.012191  0.024991 -0.036038   \n",
       "4  0.005383 -0.044642 -0.036385  0.021872  0.003935  0.015596  0.008142   \n",
       "5 -0.092695 -0.044642 -0.040696 -0.019442 -0.068991 -0.079288  0.041277   \n",
       "6 -0.045472  0.050680 -0.047163 -0.015999 -0.040096 -0.024800  0.000779   \n",
       "7  0.063504  0.050680 -0.001895  0.066630  0.090620  0.108914  0.022869   \n",
       "8  0.041708  0.050680  0.061696 -0.040099 -0.013953  0.006202 -0.028674   \n",
       "9 -0.070900 -0.044642  0.039062 -0.033214 -0.012577 -0.034508 -0.024993   \n",
       "\n",
       "         s4        s5        s6  \n",
       "0 -0.002592  0.019908 -0.017646  \n",
       "1 -0.039493 -0.068330 -0.092204  \n",
       "2 -0.002592  0.002864 -0.025930  \n",
       "3  0.034309  0.022692 -0.009362  \n",
       "4 -0.002592 -0.031991 -0.046641  \n",
       "5 -0.076395 -0.041180 -0.096346  \n",
       "6 -0.039493 -0.062913 -0.038357  \n",
       "7  0.017703 -0.035817  0.003064  \n",
       "8 -0.002592 -0.014956  0.011349  \n",
       "9 -0.002592  0.067736 -0.013504  "
      ]
     },
     "execution_count": 113,
     "metadata": {},
     "output_type": "execute_result"
    }
   ],
   "source": [
    "diabetes.head(10)"
   ]
  },
  {
   "cell_type": "code",
   "execution_count": 122,
   "id": "9292c62b-8c26-4850-8ee8-8fdacc3f8ab1",
   "metadata": {},
   "outputs": [
    {
     "name": "stdout",
     "output_type": "stream",
     "text": [
      "Intercept: -7.34031317064707e-16\n",
      "Coefficient: [0.18508467]\n",
      "Score: 0.03425633364258207\n"
     ]
    }
   ],
   "source": [
    "X = diabetes[[\"age\"]]\n",
    "Y = diabetes[\"bmi\"]\n",
    "simple_prediction = linear_model.LinearRegression()\n",
    "simple_prediction.fit(X, Y)\n",
    "\n",
    "(intercept_simple, coefs_simple, score_simple) = (\n",
    "    simple_prediction.intercept_,\n",
    "    simple_prediction.coef_,\n",
    "    simple_prediction.score(X, Y))\n",
    "\n",
    "print(f'Intercept: {intercept_simple}\\nCoefficient: {coefs_simple}\\nScore: {score_simple}')"
   ]
  },
  {
   "cell_type": "markdown",
   "id": "b2e13e04-9d6a-4309-b0e8-d875aebe245e",
   "metadata": {},
   "source": [
    "<p style=\"page-break-after:always;\"></p>\n",
    "\n",
    "## **Question 4**\n",
    "For this question, use again the dataframe “diabetes”. Next, perform a multiple linear regression using the variables “Age”, “Body mass index” to predict the variable “Average\n",
    "blood pressure”. Save your model in a variable called “multiple prediction”. Print to screen the intercept, the coefficients obtained from your linear regression model ,and the score of\n",
    "your prediction."
   ]
  },
  {
   "cell_type": "code",
   "execution_count": 123,
   "id": "95ce71e3-08f1-4707-a590-fcf431365f17",
   "metadata": {},
   "outputs": [
    {
     "name": "stdout",
     "output_type": "stream",
     "text": [
      "Intercept: 5.044203447478033e-16\n",
      "Coefficients: [0.27154348 0.34515679]\n",
      "Score: 0.22756321849118344\n"
     ]
    }
   ],
   "source": [
    "from sklearn import datasets\n",
    "from sklearn import linear_model\n",
    "from sklearn import metrics\n",
    "import pandas as pd\n",
    "\n",
    "X = diabetes[[\"age\", \"bmi\"]]\n",
    "Y = diabetes[\"bp\"]\n",
    "multiple_prediction = linear_model.LinearRegression()\n",
    "multiple_prediction.fit(X, Y)\n",
    "\n",
    "(intercept_mult, coefs_mult, score_mult) = (\n",
    "    multiple_prediction.intercept_,\n",
    "    multiple_prediction.coef_,\n",
    "    multiple_prediction.score(X, Y))\n",
    "\n",
    "print(f'Intercept: {intercept_mult}\\nCoefficients: {coefs_mult}\\nScore: {score_mult}')"
   ]
  },
  {
   "cell_type": "markdown",
   "id": "006c27d0-7316-4965-bc2d-f7d6d59c6e39",
   "metadata": {},
   "source": [
    "<p style=\"page-break-after:always;\"></p>\n",
    "\n",
    "## **Question 5**\n",
    "Define a dictionary called “Housing” with the following entries:"
   ]
  },
  {
   "attachments": {
    "8d788b97-1204-4a45-a215-4111eda30cb6.JPG": {
     "image/jpeg": "[encoded data removed]"
    }
   },
   "cell_type": "markdown",
   "id": "d9e5bddd-1401-429d-9f36-0032b89ac6be",
   "metadata": {},
   "source": [
    "![df.JPG](attachment:8d788b97-1204-4a45-a215-4111eda30cb6.JPG)"
   ]
  },
  {
   "cell_type": "markdown",
   "id": "cf353ecc-c8ba-49f1-8207-d755fbd3874c",
   "metadata": {},
   "source": [
    "Assign it to a dataframe called “df”, naming the columns accordingly to the dictionary\n",
    "keys and print to screen the first 5 rows. Using the “statsmodel” library, compute a simple\n",
    "linear regression using the values in “Year” to predict “Bedrooms” and assign it to a variable\n",
    "called “model”. Print to screen the summary of your result."
   ]
  },
  {
   "cell_type": "code",
   "execution_count": 96,
   "id": "bcb97078-9548-42db-9938-039c2db933cf",
   "metadata": {},
   "outputs": [
    {
     "data": {
      "text/html": [
       "<div>\n",
       "<style scoped>\n",
       "    .dataframe tbody tr th:only-of-type {\n",
       "        vertical-align: middle;\n",
       "    }\n",
       "\n",
       "    .dataframe tbody tr th {\n",
       "        vertical-align: top;\n",
       "    }\n",
       "\n",
       "    .dataframe thead th {\n",
       "        text-align: right;\n",
       "    }\n",
       "</style>\n",
       "<table border=\"1\" class=\"dataframe\">\n",
       "  <thead>\n",
       "    <tr style=\"text-align: right;\">\n",
       "      <th></th>\n",
       "      <th>Year</th>\n",
       "      <th>Income (K)</th>\n",
       "      <th>Bedrooms</th>\n",
       "      <th>Bathrooms</th>\n",
       "    </tr>\n",
       "  </thead>\n",
       "  <tbody>\n",
       "    <tr>\n",
       "      <th>0</th>\n",
       "      <td>2017</td>\n",
       "      <td>67</td>\n",
       "      <td>2</td>\n",
       "      <td>1</td>\n",
       "    </tr>\n",
       "    <tr>\n",
       "      <th>1</th>\n",
       "      <td>2017</td>\n",
       "      <td>78</td>\n",
       "      <td>1</td>\n",
       "      <td>1</td>\n",
       "    </tr>\n",
       "    <tr>\n",
       "      <th>2</th>\n",
       "      <td>2017</td>\n",
       "      <td>69</td>\n",
       "      <td>1</td>\n",
       "      <td>2</td>\n",
       "    </tr>\n",
       "    <tr>\n",
       "      <th>3</th>\n",
       "      <td>2017</td>\n",
       "      <td>130</td>\n",
       "      <td>2</td>\n",
       "      <td>2</td>\n",
       "    </tr>\n",
       "    <tr>\n",
       "      <th>4</th>\n",
       "      <td>2018</td>\n",
       "      <td>95</td>\n",
       "      <td>2</td>\n",
       "      <td>1</td>\n",
       "    </tr>\n",
       "  </tbody>\n",
       "</table>\n",
       "</div>"
      ],
      "text/plain": [
       "   Year  Income (K)  Bedrooms  Bathrooms\n",
       "0  2017          67         2          1\n",
       "1  2017          78         1          1\n",
       "2  2017          69         1          2\n",
       "3  2017         130         2          2\n",
       "4  2018          95         2          1"
      ]
     },
     "execution_count": 96,
     "metadata": {},
     "output_type": "execute_result"
    }
   ],
   "source": [
    "import statsmodels.api as sm\n",
    "\n",
    "Housing = {'Year' : [2017, 2017, 2017, 2017, 2018, 2018, 2018, 2019, 2019],\n",
    "'Income (K)': [67, 78, 69, 130, 95, 113, 99, 178, 156],\n",
    "'Bedrooms': [2, 1, 1, 2, 2, 2, 3, 4, 3],\n",
    "'Bathrooms': [1, 1, 2, 2, 1, 2, 1, 3, 2]}\n",
    "\n",
    "df = pd.DataFrame.from_dict(Housing)\n",
    "df.head(5)"
   ]
  },
  {
   "cell_type": "code",
   "execution_count": 94,
   "id": "b55d77c1-7abe-4b57-986c-7be270ac1d32",
   "metadata": {},
   "outputs": [
    {
     "name": "stderr",
     "output_type": "stream",
     "text": [
      "C:\\Users\\catge\\anaconda3\\lib\\site-packages\\statsmodels\\tsa\\tsatools.py:142: FutureWarning: In a future version of pandas all arguments of concat except for the argument 'objs' will be keyword-only\n",
      "  x = pd.concat(x[::order], 1)\n",
      "C:\\Users\\catge\\anaconda3\\lib\\site-packages\\scipy\\stats\\stats.py:1541: UserWarning: kurtosistest only valid for n>=20 ... continuing anyway, n=9\n",
      "  warnings.warn(\"kurtosistest only valid for n>=20 ... continuing \"\n"
     ]
    },
    {
     "data": {
      "text/html": [
       "<table class=\"simpletable\">\n",
       "<caption>OLS Regression Results</caption>\n",
       "<tr>\n",
       "  <th>Dep. Variable:</th>        <td>Bedrooms</td>     <th>  R-squared:         </th> <td>   0.706</td>\n",
       "</tr>\n",
       "<tr>\n",
       "  <th>Model:</th>                   <td>OLS</td>       <th>  Adj. R-squared:    </th> <td>   0.664</td>\n",
       "</tr>\n",
       "<tr>\n",
       "  <th>Method:</th>             <td>Least Squares</td>  <th>  F-statistic:       </th> <td>   16.82</td>\n",
       "</tr>\n",
       "<tr>\n",
       "  <th>Date:</th>             <td>Fri, 03 Mar 2023</td> <th>  Prob (F-statistic):</th>  <td>0.00456</td>\n",
       "</tr>\n",
       "<tr>\n",
       "  <th>Time:</th>                 <td>09:38:33</td>     <th>  Log-Likelihood:    </th> <td> -6.4717</td>\n",
       "</tr>\n",
       "<tr>\n",
       "  <th>No. Observations:</th>      <td>     9</td>      <th>  AIC:               </th> <td>   16.94</td>\n",
       "</tr>\n",
       "<tr>\n",
       "  <th>Df Residuals:</th>          <td>     7</td>      <th>  BIC:               </th> <td>   17.34</td>\n",
       "</tr>\n",
       "<tr>\n",
       "  <th>Df Model:</th>              <td>     1</td>      <th>                     </th>     <td> </td>   \n",
       "</tr>\n",
       "<tr>\n",
       "  <th>Covariance Type:</th>      <td>nonrobust</td>    <th>                     </th>     <td> </td>   \n",
       "</tr>\n",
       "</table>\n",
       "<table class=\"simpletable\">\n",
       "<tr>\n",
       "    <td></td>       <th>coef</th>     <th>std err</th>      <th>t</th>      <th>P>|t|</th>  <th>[0.025</th>    <th>0.975]</th>  \n",
       "</tr>\n",
       "<tr>\n",
       "  <th>const</th> <td>-1975.2000</td> <td>  482.100</td> <td>   -4.097</td> <td> 0.005</td> <td>-3115.185</td> <td> -835.215</td>\n",
       "</tr>\n",
       "<tr>\n",
       "  <th>Year</th>  <td>    0.9800</td> <td>    0.239</td> <td>    4.102</td> <td> 0.005</td> <td>    0.415</td> <td>    1.545</td>\n",
       "</tr>\n",
       "</table>\n",
       "<table class=\"simpletable\">\n",
       "<tr>\n",
       "  <th>Omnibus:</th>       <td> 9.079</td> <th>  Durbin-Watson:     </th> <td>   2.235</td>\n",
       "</tr>\n",
       "<tr>\n",
       "  <th>Prob(Omnibus):</th> <td> 0.011</td> <th>  Jarque-Bera (JB):  </th> <td>   1.495</td>\n",
       "</tr>\n",
       "<tr>\n",
       "  <th>Skew:</th>          <td> 0.224</td> <th>  Prob(JB):          </th> <td>   0.474</td>\n",
       "</tr>\n",
       "<tr>\n",
       "  <th>Kurtosis:</th>      <td> 1.054</td> <th>  Cond. No.          </th> <td>5.18e+06</td>\n",
       "</tr>\n",
       "</table><br/><br/>Notes:<br/>[1] Standard Errors assume that the covariance matrix of the errors is correctly specified.<br/>[2] The condition number is large, 5.18e+06. This might indicate that there are<br/>strong multicollinearity or other numerical problems."
      ],
      "text/plain": [
       "<class 'statsmodels.iolib.summary.Summary'>\n",
       "\"\"\"\n",
       "                            OLS Regression Results                            \n",
       "==============================================================================\n",
       "Dep. Variable:               Bedrooms   R-squared:                       0.706\n",
       "Model:                            OLS   Adj. R-squared:                  0.664\n",
       "Method:                 Least Squares   F-statistic:                     16.82\n",
       "Date:                Fri, 03 Mar 2023   Prob (F-statistic):            0.00456\n",
       "Time:                        09:38:33   Log-Likelihood:                -6.4717\n",
       "No. Observations:                   9   AIC:                             16.94\n",
       "Df Residuals:                       7   BIC:                             17.34\n",
       "Df Model:                           1                                         \n",
       "Covariance Type:            nonrobust                                         \n",
       "==============================================================================\n",
       "                 coef    std err          t      P>|t|      [0.025      0.975]\n",
       "------------------------------------------------------------------------------\n",
       "const      -1975.2000    482.100     -4.097      0.005   -3115.185    -835.215\n",
       "Year           0.9800      0.239      4.102      0.005       0.415       1.545\n",
       "==============================================================================\n",
       "Omnibus:                        9.079   Durbin-Watson:                   2.235\n",
       "Prob(Omnibus):                  0.011   Jarque-Bera (JB):                1.495\n",
       "Skew:                           0.224   Prob(JB):                        0.474\n",
       "Kurtosis:                       1.054   Cond. No.                     5.18e+06\n",
       "==============================================================================\n",
       "\n",
       "Notes:\n",
       "[1] Standard Errors assume that the covariance matrix of the errors is correctly specified.\n",
       "[2] The condition number is large, 5.18e+06. This might indicate that there are\n",
       "strong multicollinearity or other numerical problems.\n",
       "\"\"\""
      ]
     },
     "execution_count": 94,
     "metadata": {},
     "output_type": "execute_result"
    }
   ],
   "source": [
    "X = df[\"Year\"]\n",
    "Y = df[\"Bedrooms\"]\n",
    "Xt = sm.add_constant(X)\n",
    "model = sm.OLS(Y,Xt).fit()\n",
    "model.summary()"
   ]
  },
  {
   "cell_type": "markdown",
   "id": "79b0abbe-143f-47ad-b487-ff32d16cc8eb",
   "metadata": {},
   "source": [
    "<p style=\"page-break-after:always;\"></p>\n",
    "\n",
    "## **Question 6**\n",
    "Consider the dataframe “df’ created in the previous question. Using the “statsmodel”\n",
    "library, compute a multiple linear regression using the values in “Year” and “Income (K)”\n",
    "to predict “Bedrooms” and assign it to a variable called “multiple model”. Print to screen\n",
    "the summary of your result."
   ]
  },
  {
   "cell_type": "code",
   "execution_count": 101,
   "id": "fa199982-1a4b-446c-90ee-a2bc6216ce7e",
   "metadata": {},
   "outputs": [
    {
     "name": "stderr",
     "output_type": "stream",
     "text": [
      "C:\\Users\\catge\\anaconda3\\lib\\site-packages\\statsmodels\\tsa\\tsatools.py:142: FutureWarning: In a future version of pandas all arguments of concat except for the argument 'objs' will be keyword-only\n",
      "  x = pd.concat(x[::order], 1)\n",
      "C:\\Users\\catge\\anaconda3\\lib\\site-packages\\scipy\\stats\\stats.py:1541: UserWarning: kurtosistest only valid for n>=20 ... continuing anyway, n=9\n",
      "  warnings.warn(\"kurtosistest only valid for n>=20 ... continuing \"\n"
     ]
    },
    {
     "data": {
      "text/html": [
       "<table class=\"simpletable\">\n",
       "<caption>OLS Regression Results</caption>\n",
       "<tr>\n",
       "  <th>Dep. Variable:</th>        <td>Bedrooms</td>     <th>  R-squared:         </th> <td>   0.758</td>\n",
       "</tr>\n",
       "<tr>\n",
       "  <th>Model:</th>                   <td>OLS</td>       <th>  Adj. R-squared:    </th> <td>   0.677</td>\n",
       "</tr>\n",
       "<tr>\n",
       "  <th>Method:</th>             <td>Least Squares</td>  <th>  F-statistic:       </th> <td>   9.382</td>\n",
       "</tr>\n",
       "<tr>\n",
       "  <th>Date:</th>             <td>Fri, 03 Mar 2023</td> <th>  Prob (F-statistic):</th>  <td>0.0142</td> \n",
       "</tr>\n",
       "<tr>\n",
       "  <th>Time:</th>                 <td>09:41:57</td>     <th>  Log-Likelihood:    </th> <td> -5.6040</td>\n",
       "</tr>\n",
       "<tr>\n",
       "  <th>No. Observations:</th>      <td>     9</td>      <th>  AIC:               </th> <td>   17.21</td>\n",
       "</tr>\n",
       "<tr>\n",
       "  <th>Df Residuals:</th>          <td>     6</td>      <th>  BIC:               </th> <td>   17.80</td>\n",
       "</tr>\n",
       "<tr>\n",
       "  <th>Df Model:</th>              <td>     2</td>      <th>                     </th>     <td> </td>   \n",
       "</tr>\n",
       "<tr>\n",
       "  <th>Covariance Type:</th>      <td>nonrobust</td>    <th>                     </th>     <td> </td>   \n",
       "</tr>\n",
       "</table>\n",
       "<table class=\"simpletable\">\n",
       "<tr>\n",
       "       <td></td>         <th>coef</th>     <th>std err</th>      <th>t</th>      <th>P>|t|</th>  <th>[0.025</th>    <th>0.975]</th>  \n",
       "</tr>\n",
       "<tr>\n",
       "  <th>const</th>      <td>-1245.0799</td> <td>  800.834</td> <td>   -1.555</td> <td> 0.171</td> <td>-3204.651</td> <td>  714.491</td>\n",
       "</tr>\n",
       "<tr>\n",
       "  <th>Year</th>       <td>    0.6176</td> <td>    0.397</td> <td>    1.555</td> <td> 0.171</td> <td>   -0.354</td> <td>    1.590</td>\n",
       "</tr>\n",
       "<tr>\n",
       "  <th>Income (K)</th> <td>    0.0096</td> <td>    0.009</td> <td>    1.130</td> <td> 0.302</td> <td>   -0.011</td> <td>    0.031</td>\n",
       "</tr>\n",
       "</table>\n",
       "<table class=\"simpletable\">\n",
       "<tr>\n",
       "  <th>Omnibus:</th>       <td> 2.158</td> <th>  Durbin-Watson:     </th> <td>   1.946</td>\n",
       "</tr>\n",
       "<tr>\n",
       "  <th>Prob(Omnibus):</th> <td> 0.340</td> <th>  Jarque-Bera (JB):  </th> <td>   1.141</td>\n",
       "</tr>\n",
       "<tr>\n",
       "  <th>Skew:</th>          <td> 0.575</td> <th>  Prob(JB):          </th> <td>   0.565</td>\n",
       "</tr>\n",
       "<tr>\n",
       "  <th>Kurtosis:</th>      <td> 1.689</td> <th>  Cond. No.          </th> <td>8.79e+06</td>\n",
       "</tr>\n",
       "</table><br/><br/>Notes:<br/>[1] Standard Errors assume that the covariance matrix of the errors is correctly specified.<br/>[2] The condition number is large, 8.79e+06. This might indicate that there are<br/>strong multicollinearity or other numerical problems."
      ],
      "text/plain": [
       "<class 'statsmodels.iolib.summary.Summary'>\n",
       "\"\"\"\n",
       "                            OLS Regression Results                            \n",
       "==============================================================================\n",
       "Dep. Variable:               Bedrooms   R-squared:                       0.758\n",
       "Model:                            OLS   Adj. R-squared:                  0.677\n",
       "Method:                 Least Squares   F-statistic:                     9.382\n",
       "Date:                Fri, 03 Mar 2023   Prob (F-statistic):             0.0142\n",
       "Time:                        09:41:57   Log-Likelihood:                -5.6040\n",
       "No. Observations:                   9   AIC:                             17.21\n",
       "Df Residuals:                       6   BIC:                             17.80\n",
       "Df Model:                           2                                         \n",
       "Covariance Type:            nonrobust                                         \n",
       "==============================================================================\n",
       "                 coef    std err          t      P>|t|      [0.025      0.975]\n",
       "------------------------------------------------------------------------------\n",
       "const      -1245.0799    800.834     -1.555      0.171   -3204.651     714.491\n",
       "Year           0.6176      0.397      1.555      0.171      -0.354       1.590\n",
       "Income (K)     0.0096      0.009      1.130      0.302      -0.011       0.031\n",
       "==============================================================================\n",
       "Omnibus:                        2.158   Durbin-Watson:                   1.946\n",
       "Prob(Omnibus):                  0.340   Jarque-Bera (JB):                1.141\n",
       "Skew:                           0.575   Prob(JB):                        0.565\n",
       "Kurtosis:                       1.689   Cond. No.                     8.79e+06\n",
       "==============================================================================\n",
       "\n",
       "Notes:\n",
       "[1] Standard Errors assume that the covariance matrix of the errors is correctly specified.\n",
       "[2] The condition number is large, 8.79e+06. This might indicate that there are\n",
       "strong multicollinearity or other numerical problems.\n",
       "\"\"\""
      ]
     },
     "execution_count": 101,
     "metadata": {},
     "output_type": "execute_result"
    }
   ],
   "source": [
    "import statsmodels.api as sm\n",
    "\n",
    "X = df[[\"Year\", \"Income (K)\"]]\n",
    "Y = df[\"Bedrooms\"]\n",
    "Xt = sm.add_constant(X)\n",
    "multiple_model = sm.OLS(Y,Xt).fit()\n",
    "multiple_model.summary()"
   ]
  },
  {
   "cell_type": "code",
   "execution_count": null,
   "id": "0e6882e2-421b-419f-860e-4d90756879e1",
   "metadata": {},
   "outputs": [],
   "source": []
  }
 ],
 "metadata": {
  "kernelspec": {
   "display_name": "Python 3 (ipykernel)",
   "language": "python",
   "name": "python3"
  },
  "language_info": {
   "codemirror_mode": {
    "name": "ipython",
    "version": 3
   },
   "file_extension": ".py",
   "mimetype": "text/x-python",
   "name": "python",
   "nbconvert_exporter": "python",
   "pygments_lexer": "ipython3",
   "version": "3.9.7"
  }
 },
 "nbformat": 4,
 "nbformat_minor": 5
}
